{
 "cells": [
  {
   "cell_type": "markdown",
   "id": "c648ef14",
   "metadata": {},
   "source": []
  },
  {
   "cell_type": "markdown",
   "id": "c6d67f6c",
   "metadata": {},
   "source": [
    "# Monty Hall"
   ]
  },
  {
   "cell_type": "code",
   "execution_count": null,
   "id": "bb988be4",
   "metadata": {},
   "outputs": [
    {
     "name": "stdout",
     "output_type": "stream",
     "text": [
      "The autoreload extension is already loaded. To reload it, use:\n",
      "  %reload_ext autoreload\n"
     ]
    }
   ],
   "source": [
    "from sys import path\n",
    "import numpy as np\n",
    "import matplotlib.pyplot as plt\n",
    "import seaborn as sns\n",
    "\n",
    "%load_ext autoreload\n",
    "%autoreload 2\n",
    "path.append(\"../\")\n",
    "\n",
    "from src.utils import first_choice, eliminate_a_loser"
   ]
  },
  {
   "cell_type": "code",
   "execution_count": 48,
   "id": "7d6ae1f0",
   "metadata": {},
   "outputs": [],
   "source": [
    "# preallocate variables\n",
    "n_trials = 1000\n",
    "Winners = np.zeros(n_trials)\n",
    "Stay = np.zeros(n_trials)\n",
    "Won = np.zeros(n_trials)\n",
    "\n",
    "# Initial bets\n",
    "doors = np.array([1, 2, 3])"
   ]
  },
  {
   "cell_type": "code",
   "execution_count": 50,
   "id": "811de3db",
   "metadata": {},
   "outputs": [],
   "source": [
    "for n in range(n_trials):\n",
    "    winner = np.random.randint(np.min(doors), np.max(doors)+1)\n",
    "    Winners[n] = winner\n",
    "\n",
    "    first_pick = np.random.randint(np.min(doors), np.max(doors)+1)\n",
    "    #print(f\"First picked is {first_pick}\")\n",
    "\n",
    "    second_set = first_choice(first_pick, doors)\n",
    "    remaining_doors, eliminated_door = eliminate_a_loser(second_set, winner)\n",
    "    #print(f\"Door #{eliminated_door} has been eliminated\")\n",
    "    #print(f\"Second option is door #{remaining_doors}\")\n",
    "    #print(f\"psssst, the winner is {winner}\")\n",
    "\n",
    "    final_choice = np.random.choice([0, 1])\n",
    "    if final_choice == 0:\n",
    "        Stay[n] = 1\n",
    "        if first_choice == winner: # choosing to stay with initial prediction, no switch\n",
    "            Won[n] = 1\n",
    "        else:\n",
    "            Won[n] = 0\n",
    "    else:\n",
    "        Stay[n] = 0\n",
    "        if first_choice == winner:\n",
    "            Won[n] = 0\n",
    "        else:\n",
    "            Won[n] = 1\n",
    "\n",
    "\n",
    "\n",
    "        "
   ]
  },
  {
   "cell_type": "code",
   "execution_count": null,
   "id": "8dcee338",
   "metadata": {},
   "outputs": [],
   "source": []
  }
 ],
 "metadata": {
  "kernelspec": {
   "display_name": ".venv",
   "language": "python",
   "name": "python3"
  },
  "language_info": {
   "codemirror_mode": {
    "name": "ipython",
    "version": 3
   },
   "file_extension": ".py",
   "mimetype": "text/x-python",
   "name": "python",
   "nbconvert_exporter": "python",
   "pygments_lexer": "ipython3",
   "version": "3.9.18"
  }
 },
 "nbformat": 4,
 "nbformat_minor": 5
}
